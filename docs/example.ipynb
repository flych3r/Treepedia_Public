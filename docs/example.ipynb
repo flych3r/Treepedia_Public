{
 "cells": [
  {
   "cell_type": "markdown",
   "id": "e5651eae",
   "metadata": {},
   "source": [
    "## Mapa da Área"
   ]
  },
  {
   "cell_type": "code",
   "execution_count": null,
   "id": "71aacab6",
   "metadata": {},
   "outputs": [],
   "source": [
    "import osmnx as ox\n",
    "import folium\n",
    "from folium.plugins import HeatMap\n",
    "import geopandas\n",
    "import numpy as np"
   ]
  },
  {
   "cell_type": "code",
   "execution_count": null,
   "id": "1f63146d",
   "metadata": {},
   "outputs": [],
   "source": [
    "G = ox.graph_from_place('Unicamp', network_type='all')\n",
    "ox.plot_graph(G)"
   ]
  },
  {
   "cell_type": "code",
   "execution_count": null,
   "id": "1b18942c",
   "metadata": {},
   "outputs": [],
   "source": [
    "ox.save_graph_shapefile(G, '../files/unicamp_wgs84')"
   ]
  },
  {
   "cell_type": "code",
   "execution_count": null,
   "id": "0f82d1fd",
   "metadata": {},
   "outputs": [],
   "source": [
    "gdf = geopandas.read_file('../files/unicamp20')\n",
    "data = np.array([[point.xy[1][0], point.xy[0][0]] for point in gdf.geometry])"
   ]
  },
  {
   "cell_type": "code",
   "execution_count": null,
   "id": "b3ff9290",
   "metadata": {},
   "outputs": [],
   "source": [
    "m = folium.Map(location=data.mean(axis=0), zoom_start=15)\n",
    "HeatMap(data).add_to(m)\n",
    "m"
   ]
  },
  {
   "cell_type": "markdown",
   "id": "32752a2c",
   "metadata": {},
   "source": [
    "## API Maps"
   ]
  },
  {
   "cell_type": "code",
   "execution_count": null,
   "id": "cfd64cc3",
   "metadata": {},
   "outputs": [],
   "source": [
    "import requests\n",
    "import numpy as np\n",
    "from PIL import Image\n",
    "import matplotlib.pyplot as plt"
   ]
  },
  {
   "cell_type": "code",
   "execution_count": null,
   "id": "4964a28d",
   "metadata": {},
   "outputs": [],
   "source": [
    "key = os.getenv('MAPS_KEY')\n",
    "lat, lon = -22.819034, -47.071818"
   ]
  },
  {
   "cell_type": "code",
   "execution_count": null,
   "id": "9036e52e",
   "metadata": {},
   "outputs": [],
   "source": [
    "metadata = requests.get(\n",
    "    'https://maps.googleapis.com/maps/api/streetview/metadata',\n",
    "    params={\n",
    "        'location': f'{lat},{lon}',\n",
    "        'key': key\n",
    "    }\n",
    ")"
   ]
  },
  {
   "cell_type": "code",
   "execution_count": null,
   "id": "3f72619b",
   "metadata": {},
   "outputs": [],
   "source": [
    "metadata_json = metadata.json()"
   ]
  },
  {
   "cell_type": "code",
   "execution_count": null,
   "id": "3b5ebbd7",
   "metadata": {},
   "outputs": [],
   "source": [
    "metadata_json"
   ]
  },
  {
   "cell_type": "code",
   "execution_count": null,
   "id": "47ce7c2c",
   "metadata": {},
   "outputs": [],
   "source": [
    "heading = 0\n",
    "pitch = 0\n",
    "pano_id = metadata_json['pano_id']\n",
    "image_url = f'http://maps.googleapis.com/maps/api/streetview?size=400x400&pano={pano_id}&fov=60&heading={heading}&pitch={pitch}&sensor=false&key={key}'"
   ]
  },
  {
   "cell_type": "code",
   "execution_count": null,
   "id": "6b328b0e",
   "metadata": {},
   "outputs": [],
   "source": [
    "image_data = requests.get(\n",
    "    'http://maps.googleapis.com/maps/api/streetview',\n",
    "    params={\n",
    "        'size': '400x400',\n",
    "        'pano': pano_id,\n",
    "        'fov': 60,\n",
    "        'heading': heading,\n",
    "        'pitch': pitch,\n",
    "        'sensor': 'false',\n",
    "        'key': key\n",
    "    },\n",
    "    stream=True\n",
    ")"
   ]
  },
  {
   "cell_type": "code",
   "execution_count": null,
   "id": "c0a308d0",
   "metadata": {},
   "outputs": [],
   "source": [
    "img = np.array(Image.open(image_data.raw))"
   ]
  },
  {
   "cell_type": "code",
   "execution_count": null,
   "id": "5121a7e4",
   "metadata": {},
   "outputs": [],
   "source": [
    "plt.imshow(img)"
   ]
  },
  {
   "cell_type": "markdown",
   "id": "a5357144",
   "metadata": {},
   "source": [
    "## Green Index"
   ]
  },
  {
   "cell_type": "code",
   "execution_count": null,
   "id": "01464450",
   "metadata": {},
   "outputs": [],
   "source": [
    "import numpy as np\n",
    "import os, os.path\n",
    "from PIL import Image\n",
    "import glob\n",
    "import matplotlib.pyplot as plt"
   ]
  },
  {
   "cell_type": "code",
   "execution_count": null,
   "metadata": {},
   "outputs": [],
   "source": [
    "def graythresh(array,level):\n",
    "    '''array: is the numpy array waiting for processing\n",
    "    return thresh: is the result got by OTSU algorithm\n",
    "    if the threshold is less than level, then set the level as the threshold\n",
    "    by Xiaojiang Li\n",
    "    '''\n",
    "\n",
    "    maxVal = np.max(array)\n",
    "    minVal = np.min(array)\n",
    "\n",
    "    # if the inputImage is a float of double dataset then we transform the data\n",
    "    # in to byte and range from [0 255]\n",
    "    if maxVal <= 1:\n",
    "        array = array*255\n",
    "    elif maxVal >= 256:\n",
    "        array = np.int((array - minVal)/(maxVal - minVal))\n",
    "\n",
    "    # turn the negative to natural number\n",
    "    negIdx = np.where(array < 0)\n",
    "    array[negIdx] = 0\n",
    "\n",
    "    # calculate the hist of 'array'\n",
    "    dims = np.shape(array)\n",
    "    hist = np.histogram(array,range(257))\n",
    "    P_hist = hist[0]*1.0/np.sum(hist[0])\n",
    "\n",
    "    omega = P_hist.cumsum()\n",
    "\n",
    "    temp = np.arange(256)\n",
    "    mu = P_hist*(temp+1)\n",
    "    mu = mu.cumsum()\n",
    "\n",
    "    n = len(mu)\n",
    "    mu_t = mu[n-1]\n",
    "\n",
    "    sigma_b_squared = (mu_t*omega - mu)**2/(omega*(1-omega))\n",
    "\n",
    "    # try to found if all sigma_b squrered are NaN or Infinity\n",
    "    indInf = np.where(sigma_b_squared == np.inf)\n",
    "\n",
    "    CIN = 0\n",
    "    if len(indInf[0])>0:\n",
    "        CIN = len(indInf[0])\n",
    "\n",
    "    maxval = np.max(sigma_b_squared)\n",
    "\n",
    "    IsAllInf = CIN == 256\n",
    "    if IsAllInf !=1:\n",
    "        index = np.where(sigma_b_squared==maxval)\n",
    "        idx = np.mean(index)\n",
    "        threshold = (idx - 1)/255.0\n",
    "    else:\n",
    "        threshold = level\n",
    "\n",
    "    if np.isnan(threshold):\n",
    "        threshold = level\n",
    "\n",
    "    return threshold"
   ]
  },
  {
   "cell_type": "code",
   "execution_count": null,
   "id": "ee92ff6f",
   "metadata": {},
   "outputs": [],
   "source": [
    "panoidlist = []\n",
    "gsvimgs = glob.glob('../files/gvi-unicamp/images/*.png')\n",
    "gsvimgs = np.random.choice(gsvimgs, 10)\n",
    "\n",
    "for img_file in gsvimgs:\n",
    "\n",
    "    im = np.array(Image.open(img_file))\n",
    "\n",
    "    I = im/255.0\n",
    "\n",
    "    red = I[:,:,0]\n",
    "    green = I[:,:,1]\n",
    "    blue = I[:,:,2]\n",
    "\n",
    "    # calculate the difference between green band with other two bands\n",
    "    green_red_Diff = green - red\n",
    "    green_blue_Diff = green - blue\n",
    "\n",
    "    ExG = green_red_Diff + green_blue_Diff\n",
    "    diffImg = green_red_Diff * green_blue_Diff\n",
    "\n",
    "    redThreImgU = red < 0.6\n",
    "    greenThreImgU = green < 0.9\n",
    "    blueThreImgU = blue < 0.6\n",
    "\n",
    "    shadowRedU = red < 0.3\n",
    "    shadowGreenU = green < 0.3\n",
    "    shadowBlueU = blue < 0.3\n",
    "    del red, blue, green, I\n",
    "\n",
    "    greenImg1 = redThreImgU * blueThreImgU*greenThreImgU\n",
    "    greenImgShadow1 = shadowRedU*shadowGreenU*shadowBlueU\n",
    "\n",
    "    greenImg3 = diffImg > 0.0\n",
    "    greenImg4 = green_red_Diff > 0\n",
    "    threshold = graythresh(ExG, 0.1)\n",
    "\n",
    "    if threshold > 0.1:\n",
    "        threshold = 0.1\n",
    "    elif threshold < 0.05:\n",
    "        threshold = 0.05\n",
    "\n",
    "    greenImg2 = ExG > threshold\n",
    "    greenImgShadow2 = ExG > 0.05\n",
    "    greenImg = greenImg1*greenImg2 + greenImgShadow2*greenImgShadow1\n",
    "\n",
    "    greenPxlNum = np.sum(greenImg)\n",
    "    greenPercent = greenPxlNum / greenImg.size * 100\n",
    "\n",
    "    f = plt.figure(figsize=(10,10))\n",
    "    f.add_subplot(1,3,1)\n",
    "    plt.imshow(im)\n",
    "    plt.title('Original Image')\n",
    "\n",
    "    f.add_subplot(1,3,2)\n",
    "    plt.imshow(ExG)\n",
    "    plt.title('Image Green Pixels')\n",
    "\n",
    "    f.add_subplot(1,3,3)\n",
    "    plt.imshow(greenImg)\n",
    "    plt.title('Image Vegetation')\n",
    "\n",
    "    plt.suptitle(f'The green view index is {greenPercent:.2f}', y=0.7)\n",
    "    plt.tight_layout()\n",
    "    plt.show()"
   ]
  }
 ],
 "metadata": {
  "kernelspec": {
   "display_name": "Python 3 (ipykernel)",
   "language": "python",
   "name": "python3"
  },
  "language_info": {
   "codemirror_mode": {
    "name": "ipython",
    "version": 3
   },
   "file_extension": ".py",
   "mimetype": "text/x-python",
   "name": "python",
   "nbconvert_exporter": "python",
   "pygments_lexer": "ipython3",
   "version": "3.9.10"
  }
 },
 "nbformat": 4,
 "nbformat_minor": 5
}
